{
 "cells": [
  {
   "cell_type": "markdown",
   "id": "872b2747-7c72-46c1-8ead-045b7f2da455",
   "metadata": {},
   "source": [
    "# Modo Visor"
   ]
  },
  {
   "cell_type": "markdown",
   "id": "2b5831d0-7c53-4746-b3c7-3b07038af1d0",
   "metadata": {},
   "source": [
    "Aquí puedes generar tu horario ingresando los NRC de las materias que cursas"
   ]
  },
  {
   "cell_type": "code",
   "execution_count": 2,
   "id": "f3851c8f-8d94-467f-8546-9a5c1bf59162",
   "metadata": {},
   "outputs": [],
   "source": [
    "import subjects"
   ]
  },
  {
   "cell_type": "code",
   "execution_count": null,
   "id": "b6e9da05-f9eb-440a-8692-0c59976608de",
   "metadata": {},
   "outputs": [],
   "source": [
    "\n",
    "df = subjects.cargar_archivo('./Programacion.xlsx')\n",
    "\n",
    "nrcs_input = input(\"Ingrese los NRCs de las asignaturas que cursa, separados por comas: \")\n",
    "nrcs = [nrc.strip().zfill(5) for nrc in nrcs_input.split(',') if nrc.strip()]\n",
    "\n",
    "# Generar horario\n",
    "horario = subjects.generar_horario(df, nrcs)\n",
    "\n",
    "if horario.empty:\n",
    "    print(\"No se encontraron asignaturas con los NRCs proporcionados.\")\n",
    "else:\n",
    "    # Mostrar el horario generado\n",
    "    print(\"\\nHorario generado:\")\n",
    "    display(horario)\n",
    "\n",
    "servicio_social = horario[horario['Materia'].str.contains('Servicio Social', na=False, case=False)]\n",
    "practicas_profesionales = horario[horario['Materia'].str.contains('Practica Profesional', na=False, case=False)]\n",
    "\n",
    "if not servicio_social.empty:\n",
    "    print(\"\\nEl alumno está cursando Servicio Social.\")\n",
    "    display(servicio_social)\n",
    "    \n",
    "if not practicas_profesionales.empty:\n",
    "    print(\"\\nEl alumno está cursando Prácticas Profesionales.\")\n",
    "    display(practicas_profesionales)"
   ]
  }
 ],
 "metadata": {
  "kernelspec": {
   "display_name": "Python 3 (ipykernel)",
   "language": "python",
   "name": "python3"
  },
  "language_info": {
   "codemirror_mode": {
    "name": "ipython",
    "version": 3
   },
   "file_extension": ".py",
   "mimetype": "text/x-python",
   "name": "python",
   "nbconvert_exporter": "python",
   "pygments_lexer": "ipython3",
   "version": "3.11.5"
  }
 },
 "nbformat": 4,
 "nbformat_minor": 5
}
