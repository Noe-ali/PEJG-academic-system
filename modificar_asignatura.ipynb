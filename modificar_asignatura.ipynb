{
 "cells": [
  {
   "cell_type": "markdown",
   "id": "6ca90e6f-1963-438b-8121-8b8f98e51875",
   "metadata": {},
   "source": [
    " ### Modificar asignatura"
   ]
  },
  {
   "cell_type": "markdown",
   "id": "1c113936-1046-4e93-bcf9-06f83cd783bf",
   "metadata": {},
   "source": [
    "Ingresa los datos de la asignatura a modificar, presionar Enter si no hay cambios."
   ]
  },
  {
   "cell_type": "code",
   "execution_count": 1,
   "id": "4614c2fa-785d-4c19-80df-18f261abd667",
   "metadata": {},
   "outputs": [
    {
     "name": "stdin",
     "output_type": "stream",
     "text": [
      "Ingrese la clave de la asignatura a modificar:  123123\n",
      "Nueva Hora (actual: 12:00-07:30):  \n",
      "Nuevo Profesor (actual: NoER):  \n",
      "Nuevo Salón (actual: 123123):  Salon 1\n"
     ]
    },
    {
     "name": "stdout",
     "output_type": "stream",
     "text": [
      "Archivo guardado con éxito en: ./Programacion.xlsx\n",
      "Asignatura modificada con éxito.\n"
     ]
    }
   ],
   "source": [
    "import subjects\n",
    "clave_asignatura = input(\"Ingrese la clave de la asignatura a modificar: \")\n",
    "\n",
    "df = subjects.cargar_archivo('./Programacion.xlsx')\n",
    "asignatura = subjects.buscar_asignatura(df, clave_asignatura)\n",
    "if asignatura is not None and not asignatura.empty:\n",
    "    nueva_hora = input(f\"Nueva Hora (actual: {asignatura['Hora'].iloc[0]}): \") or asignatura['Hora'].iloc[0]\n",
    "    nuevo_profesor = input(f\"Nuevo Profesor (actual: {asignatura['Profesor'].iloc[0]}): \") or asignatura['Profesor'].iloc[0]\n",
    "    nuevo_salon = input(f\"Nuevo Salón (actual: {asignatura['Salon'].iloc[0]}): \") or asignatura['Salon'].iloc[0]\n",
    "    # Crear un diccionario con los cambios\n",
    "    cambios = {\n",
    "        'Hora': nueva_hora,\n",
    "        'Profesor': nuevo_profesor,\n",
    "        'Salon': nuevo_salon\n",
    "    }\n",
    "    df = subjects.modificar_asignatura(df, clave_asignatura, cambios)\n",
    "    subjects.guardar_archivo(df, './Programacion.xlsx')\n",
    "    print(\"Asignatura modificada con éxito.\")"
   ]
  },
  {
   "cell_type": "code",
   "execution_count": null,
   "id": "58695894-8a8c-4565-97d7-ecb688446fb6",
   "metadata": {},
   "outputs": [],
   "source": []
  }
 ],
 "metadata": {
  "kernelspec": {
   "display_name": "Python 3 (ipykernel)",
   "language": "python",
   "name": "python3"
  },
  "language_info": {
   "codemirror_mode": {
    "name": "ipython",
    "version": 3
   },
   "file_extension": ".py",
   "mimetype": "text/x-python",
   "name": "python",
   "nbconvert_exporter": "python",
   "pygments_lexer": "ipython3",
   "version": "3.11.5"
  }
 },
 "nbformat": 4,
 "nbformat_minor": 5
}
